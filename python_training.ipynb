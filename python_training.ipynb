{
 "cells": [
  {
   "cell_type": "markdown",
   "metadata": {},
   "source": [
    "<h1 id=\"tocheading\">Python Graph Samples</h1>\n",
    "<h3>Created by Lily Li</h3>\n",
    "<h3>Created on Nov 5, 2017</h3>\n",
    "<div id=\"toc\"></div>"
   ]
  },
  {
   "cell_type": "code",
   "execution_count": 1,
   "metadata": {},
   "outputs": [
    {
     "data": {
      "application/javascript": [
       "$.getScript('https://kmahelona.github.io/ipython_notebook_goodies/ipython_notebook_toc.js')"
      ],
      "text/plain": [
       "<IPython.core.display.Javascript object>"
      ]
     },
     "metadata": {},
     "output_type": "display_data"
    }
   ],
   "source": [
    "%%javascript\n",
    "$.getScript('https://kmahelona.github.io/ipython_notebook_goodies/ipython_notebook_toc.js')"
   ]
  },
  {
   "cell_type": "markdown",
   "metadata": {},
   "source": [
    "## - Import libraries"
   ]
  },
  {
   "cell_type": "code",
   "execution_count": 2,
   "metadata": {},
   "outputs": [],
   "source": [
    "%matplotlib inline\n",
    "import pandas as pd\n",
    "import numpy as np\n",
    "import scipy as sp\n",
    "import matplotlib as mpl\n",
    "import matplotlib.cm as cm\n",
    "import matplotlib.pyplot as plt\n",
    "import seaborn as sns\n",
    "#import statsmodels.api as sm\n",
    "from xlrd import open_workbook\n",
    "import functools"
   ]
  },
  {
   "cell_type": "markdown",
   "metadata": {},
   "source": [
    "## - Select color theme"
   ]
  },
  {
   "cell_type": "markdown",
   "metadata": {},
   "source": [
    "### 1) Import color brewer"
   ]
  },
  {
   "cell_type": "markdown",
   "metadata": {},
   "source": [
    "When importing seaborn, the default color cycle is changed to a set of six colors that evoke the standard matplotlib color cycle while aiming to be a bit more pleasing to look at."
   ]
  },
  {
   "cell_type": "code",
   "execution_count": 3,
   "metadata": {},
   "outputs": [
    {
     "data": {
      "image/png": "[encoded data removed]",
      "text/plain": [
       "<matplotlib.figure.Figure at 0x10ed37208>"
      ]
     },
     "metadata": {},
     "output_type": "display_data"
    }
   ],
   "source": [
    "current_palette = sns.color_palette()\n",
    "sns.palplot(current_palette)"
   ]
  },
  {
   "cell_type": "code",
   "execution_count": 4,
   "metadata": {},
   "outputs": [
    {
     "data": {
      "text/plain": [
       "[(0.29803921568627451, 0.44705882352941179, 0.69019607843137254),\n",
       " (0.33333333333333331, 0.6588235294117647, 0.40784313725490196),\n",
       " (0.7686274509803922, 0.30588235294117649, 0.32156862745098042),\n",
       " (0.50588235294117645, 0.44705882352941179, 0.69803921568627447),\n",
       " (0.80000000000000004, 0.72549019607843135, 0.45490196078431372),\n",
       " (0.39215686274509803, 0.70980392156862748, 0.80392156862745101)]"
      ]
     },
     "execution_count": 4,
     "metadata": {},
     "output_type": "execute_result"
    }
   ],
   "source": [
    "current_palette"
   ]
  },
  {
   "cell_type": "markdown",
   "metadata": {},
   "source": [
    "There are already designed color brewers online. One popular color brewer for maps is \"ColorBrewer: Color Advice for Maps\" at colorbrewer2.org (http://colorbrewer2.org/#type=sequential&scheme=BuGn&n=3). colorbrewer2.org has 3 map types: sequential, diverging, and qualitative. Each color map has between 3 and 12 defined colors."
   ]
  },
  {
   "cell_type": "code",
   "execution_count": 5,
   "metadata": {},
   "outputs": [
    {
     "data": {
      "image/png": "[encoded data removed]",
      "text/plain": [
       "<matplotlib.figure.Figure at 0x11ca61438>"
      ]
     },
     "metadata": {},
     "output_type": "display_data"
    }
   ],
   "source": [
    "sns.palplot(sns.color_palette(\"Paired\"))"
   ]
  },
  {
   "cell_type": "code",
   "execution_count": 6,
   "metadata": {},
   "outputs": [
    {
     "data": {
      "image/png": "[encoded data removed]",
      "text/plain": [
       "<matplotlib.figure.Figure at 0x11cb0d898>"
      ]
     },
     "metadata": {},
     "output_type": "display_data"
    }
   ],
   "source": [
    "sns.palplot(sns.color_palette(\"RdPu\"))"
   ]
  },
  {
   "cell_type": "code",
   "execution_count": 7,
   "metadata": {},
   "outputs": [
    {
     "data": {
      "image/png": "[encoded data removed]",
      "text/plain": [
       "<matplotlib.figure.Figure at 0x11cb0dac8>"
      ]
     },
     "metadata": {},
     "output_type": "display_data"
    }
   ],
   "source": [
    "sns.palplot(sns.color_palette(\"RdPu\",8))"
   ]
  },
  {
   "cell_type": "markdown",
   "metadata": {},
   "source": [
    "To get the hex code of colors:"
   ]
  },
  {
   "cell_type": "code",
   "execution_count": 8,
   "metadata": {},
   "outputs": [
    {
     "data": {
      "text/plain": [
       "['#fde3e0',\n",
       " '#fcccc7',\n",
       " '#fbacb9',\n",
       " '#f881aa',\n",
       " '#eb509c',\n",
       " '#cd238f',\n",
       " '#a1017c',\n",
       " '#740175']"
      ]
     },
     "execution_count": 8,
     "metadata": {},
     "output_type": "execute_result"
    }
   ],
   "source": [
    "pal = sns.color_palette(\"RdPu\",8)\n",
    "pal.as_hex()"
   ]
  },
  {
   "cell_type": "markdown",
   "metadata": {},
   "source": [
    "For more seaborn functions, please visit https://seaborn.pydata.org/tutorial/color_palettes.html"
   ]
  },
  {
   "cell_type": "markdown",
   "metadata": {},
   "source": [
    "<span style=\"color:blue\">**My Theme Color**</span>"
   ]
  },
  {
   "cell_type": "code",
   "execution_count": 9,
   "metadata": {},
   "outputs": [
    {
     "data": {
      "image/png": "[encoded data removed]",
      "text/plain": [
       "<matplotlib.figure.Figure at 0x11cbc7da0>"
      ]
     },
     "metadata": {},
     "output_type": "display_data"
    }
   ],
   "source": [
    "sns.palplot(sns.color_palette(\"Paired\",7))"
   ]
  },
  {
   "cell_type": "code",
   "execution_count": 10,
   "metadata": {
    "collapsed": true
   },
   "outputs": [],
   "source": [
    "my_color = sns.color_palette(\"Paired\",7)"
   ]
  },
  {
   "cell_type": "markdown",
   "metadata": {},
   "source": [
    "### 2) Select your own color palette\n",
    "#### Use xkco_rgb dictionary to pull out single colors"
   ]
  },
  {
   "cell_type": "code",
   "execution_count": 11,
   "metadata": {},
   "outputs": [
    {
     "data": {
      "image/png": "[encoded data removed]",
      "text/plain": [
       "<matplotlib.figure.Figure at 0x11cc0f0f0>"
      ]
     },
     "metadata": {},
     "output_type": "display_data"
    },
    {
     "data": {
      "image/png": "[encoded data removed]",
      "text/plain": [
       "<matplotlib.figure.Figure at 0x11cc0f9e8>"
      ]
     },
     "metadata": {},
     "output_type": "display_data"
    },
    {
     "data": {
      "image/png": "[encoded data removed]",
      "text/plain": [
       "<matplotlib.figure.Figure at 0x11cd08208>"
      ]
     },
     "metadata": {},
     "output_type": "display_data"
    }
   ],
   "source": [
    "# set color palette names \n",
    "newcolors1 = [\"#efedf5\",'#bcbddc','#756bb1']\n",
    "newcolors2 = [\"#dadaeb\",\"#bcbddc\",\"#9e9ac8\",'#756bb1','#6a51a3']\n",
    "newcolors3 = [\"#efedf5\",'#bcbddc','#756bb1','#54278f',\"#FA9FB5\",\"#DD3497\",'#7A0177']\n",
    "\n",
    "# display color palettes\n",
    "sns.palplot(newcolors1)\n",
    "sns.palplot(newcolors2)\n",
    "sns.palplot(newcolors3)"
   ]
  },
  {
   "cell_type": "markdown",
   "metadata": {},
   "source": [
    "#### Pass a list of names to the xkcd_palette() function.\n",
    "See xkcd for the full list of colors and their color names: http://xkcd.com/color/rgb/"
   ]
  },
  {
   "cell_type": "code",
   "execution_count": 12,
   "metadata": {},
   "outputs": [
    {
     "data": {
      "image/png": "[encoded data removed]",
      "text/plain": [
       "<matplotlib.figure.Figure at 0x11cc22e10>"
      ]
     },
     "metadata": {},
     "output_type": "display_data"
    }
   ],
   "source": [
    "newcolors4 = [\"windows blue\", \"amber\", \"greyish\", \"faded green\", \"dusty purple\"]\n",
    "sns.palplot(sns.xkcd_palette(newcolors4))"
   ]
  },
  {
   "cell_type": "markdown",
   "metadata": {},
   "source": [
    "## - Set graph style"
   ]
  },
  {
   "cell_type": "code",
   "execution_count": 13,
   "metadata": {
    "collapsed": true
   },
   "outputs": [],
   "source": [
    "sns.set_style(\"whitegrid\")\n",
    "sns.set_context(\"poster\")"
   ]
  },
  {
   "cell_type": "markdown",
   "metadata": {},
   "source": [
    "* function: sns.set_style https://seaborn.pydata.org/generated/seaborn.set_style.html\n",
    "  This affects things like the color of the axes, whether a grid is enabled by default, and other aesthetic elements\n",
    "* function: sns.set_context http://seaborn.pydata.org/generated/seaborn.set_context.html\n",
    "  This affects things like the size of the labels, lines, and other elements of the plot, but not the overall style. The base context is “notebook”, and the other contexts are “paper”, “talk”, and “poster”, "
   ]
  },
  {
   "cell_type": "markdown",
   "metadata": {},
   "source": [
    "## - Set font style"
   ]
  },
  {
   "cell_type": "code",
   "execution_count": 14,
   "metadata": {
    "collapsed": true
   },
   "outputs": [],
   "source": [
    "#This is to set the font style of the figures\n",
    "mpl.rc('font',family='Candara')"
   ]
  },
  {
   "cell_type": "markdown",
   "metadata": {
    "collapsed": true
   },
   "source": [
    "## - Load data from Excel workbook"
   ]
  },
  {
   "cell_type": "markdown",
   "metadata": {},
   "source": [
    "### 1) Import a sheet from a workbook"
   ]
  },
  {
   "cell_type": "code",
   "execution_count": 15,
   "metadata": {
    "collapsed": true
   },
   "outputs": [],
   "source": [
    "country_data = pd.read_excel(\"/Users/lili/Documents/Harvard/DB_MPAID/RA_Jeni/Python_training/data/wps_data_enh.xlsx\"\n",
    "                   , sheetname=\"country\", header=None\n",
    "                   , parse_cols='A:I, O',names=['country','country_code', 'region', 'income_group',\n",
    "                                                'wps_index','mean_years_edu','financial_inclusion','emp_rate',\n",
    "                                                'cellphone', 'lifetime_ipv']\n",
    "                   , skiprows=1)"
   ]
  },
  {
   "cell_type": "code",
   "execution_count": 16,
   "metadata": {},
   "outputs": [
    {
     "data": {
      "text/html": [
       "<div>\n",
       "<style>\n",
       "    .dataframe thead tr:only-child th {\n",
       "        text-align: right;\n",
       "    }\n",
       "\n",
       "    .dataframe thead th {\n",
       "        text-align: left;\n",
       "    }\n",
       "\n",
       "    .dataframe tbody tr th {\n",
       "        vertical-align: top;\n",
       "    }\n",
       "</style>\n",
       "<table border=\"1\" class=\"dataframe\">\n",
       "  <thead>\n",
       "    <tr style=\"text-align: right;\">\n",
       "      <th></th>\n",
       "      <th>country</th>\n",
       "      <th>country_code</th>\n",
       "      <th>region</th>\n",
       "      <th>income_group</th>\n",
       "      <th>wps_index</th>\n",
       "      <th>mean_years_edu</th>\n",
       "      <th>financial_inclusion</th>\n",
       "      <th>emp_rate</th>\n",
       "      <th>cellphone</th>\n",
       "      <th>lifetime_ipv</th>\n",
       "    </tr>\n",
       "  </thead>\n",
       "  <tbody>\n",
       "    <tr>\n",
       "      <th>0</th>\n",
       "      <td>Afghanistan</td>\n",
       "      <td>AFG</td>\n",
       "      <td>South Asia</td>\n",
       "      <td>Low income</td>\n",
       "      <td>0.384880</td>\n",
       "      <td>4.449483</td>\n",
       "      <td>3.812426</td>\n",
       "      <td>16.100000</td>\n",
       "      <td>52.78885</td>\n",
       "      <td>60.000000</td>\n",
       "    </tr>\n",
       "    <tr>\n",
       "      <th>1</th>\n",
       "      <td>Albania</td>\n",
       "      <td>ALB</td>\n",
       "      <td>Europe &amp; Central Asia</td>\n",
       "      <td>Upper middle income</td>\n",
       "      <td>0.713595</td>\n",
       "      <td>10.025110</td>\n",
       "      <td>33.594230</td>\n",
       "      <td>45.400000</td>\n",
       "      <td>85.83062</td>\n",
       "      <td>24.600000</td>\n",
       "    </tr>\n",
       "    <tr>\n",
       "      <th>2</th>\n",
       "      <td>Algeria</td>\n",
       "      <td>DZA</td>\n",
       "      <td>Middle East &amp; North Africa</td>\n",
       "      <td>Upper middle income</td>\n",
       "      <td>0.595061</td>\n",
       "      <td>6.740300</td>\n",
       "      <td>40.070960</td>\n",
       "      <td>14.900000</td>\n",
       "      <td>85.24904</td>\n",
       "      <td>13.278551</td>\n",
       "    </tr>\n",
       "    <tr>\n",
       "      <th>3</th>\n",
       "      <td>Angola</td>\n",
       "      <td>AGO</td>\n",
       "      <td>Sub-Saharan Africa</td>\n",
       "      <td>Upper middle income</td>\n",
       "      <td>0.575461</td>\n",
       "      <td>2.885254</td>\n",
       "      <td>22.331650</td>\n",
       "      <td>67.099998</td>\n",
       "      <td>44.71910</td>\n",
       "      <td>78.000000</td>\n",
       "    </tr>\n",
       "    <tr>\n",
       "      <th>4</th>\n",
       "      <td>Argentina</td>\n",
       "      <td>ARG</td>\n",
       "      <td>Latin America &amp; Caribbean</td>\n",
       "      <td>Upper middle income</td>\n",
       "      <td>0.715061</td>\n",
       "      <td>7.416784</td>\n",
       "      <td>50.852360</td>\n",
       "      <td>49.300000</td>\n",
       "      <td>82.60105</td>\n",
       "      <td>32.688641</td>\n",
       "    </tr>\n",
       "  </tbody>\n",
       "</table>\n",
       "</div>"
      ],
      "text/plain": [
       "       country country_code                      region         income_group  \\\n",
       "0  Afghanistan          AFG                  South Asia           Low income   \n",
       "1      Albania          ALB       Europe & Central Asia  Upper middle income   \n",
       "2      Algeria          DZA  Middle East & North Africa  Upper middle income   \n",
       "3       Angola          AGO          Sub-Saharan Africa  Upper middle income   \n",
       "4    Argentina          ARG   Latin America & Caribbean  Upper middle income   \n",
       "\n",
       "   wps_index  mean_years_edu  financial_inclusion   emp_rate  cellphone  \\\n",
       "0   0.384880        4.449483             3.812426  16.100000   52.78885   \n",
       "1   0.713595       10.025110            33.594230  45.400000   85.83062   \n",
       "2   0.595061        6.740300            40.070960  14.900000   85.24904   \n",
       "3   0.575461        2.885254            22.331650  67.099998   44.71910   \n",
       "4   0.715061        7.416784            50.852360  49.300000   82.60105   \n",
       "\n",
       "   lifetime_ipv  \n",
       "0     60.000000  \n",
       "1     24.600000  \n",
       "2     13.278551  \n",
       "3     78.000000  \n",
       "4     32.688641  "
      ]
     },
     "execution_count": 16,
     "metadata": {},
     "output_type": "execute_result"
    }
   ],
   "source": [
    "country_data.head()"
   ]
  },
  {
   "cell_type": "markdown",
   "metadata": {},
   "source": [
    "### 2) if you want to import multiple sheets from a workbook"
   ]
  },
  {
   "cell_type": "code",
   "execution_count": 17,
   "metadata": {},
   "outputs": [
    {
     "data": {
      "text/plain": [
       "['country',\n",
       " 'region',\n",
       " 'regional_stats',\n",
       " 'female_labor_force',\n",
       " 'male_labor_force',\n",
       " 'legislation']"
      ]
     },
     "execution_count": 17,
     "metadata": {},
     "output_type": "execute_result"
    }
   ],
   "source": [
    "alldata = pd.ExcelFile(\"/Users/lili/Documents/Harvard/DB_MPAID/RA_Jeni/Python_training/data/wps_data_enh.xlsx\")\n",
    "alldata.sheet_names"
   ]
  },
  {
   "cell_type": "code",
   "execution_count": 18,
   "metadata": {},
   "outputs": [
    {
     "data": {
      "text/html": [
       "<div>\n",
       "<style>\n",
       "    .dataframe thead tr:only-child th {\n",
       "        text-align: right;\n",
       "    }\n",
       "\n",
       "    .dataframe thead th {\n",
       "        text-align: left;\n",
       "    }\n",
       "\n",
       "    .dataframe tbody tr th {\n",
       "        vertical-align: top;\n",
       "    }\n",
       "</style>\n",
       "<table border=\"1\" class=\"dataframe\">\n",
       "  <thead>\n",
       "    <tr style=\"text-align: right;\">\n",
       "      <th></th>\n",
       "      <th>country</th>\n",
       "      <th>country_code</th>\n",
       "      <th>region</th>\n",
       "      <th>income_group</th>\n",
       "      <th>wps_index</th>\n",
       "      <th>mean_years_edu</th>\n",
       "      <th>financial_inclusion</th>\n",
       "      <th>emp_rate</th>\n",
       "      <th>cellphone</th>\n",
       "      <th>parliment</th>\n",
       "      <th>legal_discrimination</th>\n",
       "      <th>sex_ratio</th>\n",
       "      <th>unacceptable_work</th>\n",
       "      <th>comm_safety</th>\n",
       "      <th>lifetime_ipv</th>\n",
       "      <th>organized_violence</th>\n",
       "    </tr>\n",
       "  </thead>\n",
       "  <tbody>\n",
       "    <tr>\n",
       "      <th>0</th>\n",
       "      <td>Afghanistan</td>\n",
       "      <td>AFG</td>\n",
       "      <td>South Asia</td>\n",
       "      <td>Low income</td>\n",
       "      <td>0.384880</td>\n",
       "      <td>4.449483</td>\n",
       "      <td>3.812426</td>\n",
       "      <td>16.100000</td>\n",
       "      <td>52.78885</td>\n",
       "      <td>28.391167</td>\n",
       "      <td>45.0</td>\n",
       "      <td>1.060</td>\n",
       "      <td>51.000000</td>\n",
       "      <td>35.45817</td>\n",
       "      <td>60.000000</td>\n",
       "      <td>30.916000</td>\n",
       "    </tr>\n",
       "    <tr>\n",
       "      <th>1</th>\n",
       "      <td>Albania</td>\n",
       "      <td>ALB</td>\n",
       "      <td>Europe &amp; Central Asia</td>\n",
       "      <td>Upper middle income</td>\n",
       "      <td>0.713595</td>\n",
       "      <td>10.025110</td>\n",
       "      <td>33.594230</td>\n",
       "      <td>45.400000</td>\n",
       "      <td>85.83062</td>\n",
       "      <td>22.857143</td>\n",
       "      <td>17.0</td>\n",
       "      <td>1.078</td>\n",
       "      <td>6.000000</td>\n",
       "      <td>55.70033</td>\n",
       "      <td>24.600000</td>\n",
       "      <td>0.000000</td>\n",
       "    </tr>\n",
       "    <tr>\n",
       "      <th>2</th>\n",
       "      <td>Algeria</td>\n",
       "      <td>DZA</td>\n",
       "      <td>Middle East &amp; North Africa</td>\n",
       "      <td>Upper middle income</td>\n",
       "      <td>0.595061</td>\n",
       "      <td>6.740300</td>\n",
       "      <td>40.070960</td>\n",
       "      <td>14.900000</td>\n",
       "      <td>85.24904</td>\n",
       "      <td>25.785124</td>\n",
       "      <td>34.0</td>\n",
       "      <td>1.050</td>\n",
       "      <td>45.000000</td>\n",
       "      <td>40.86242</td>\n",
       "      <td>13.278551</td>\n",
       "      <td>0.519445</td>\n",
       "    </tr>\n",
       "    <tr>\n",
       "      <th>3</th>\n",
       "      <td>Angola</td>\n",
       "      <td>AGO</td>\n",
       "      <td>Sub-Saharan Africa</td>\n",
       "      <td>Upper middle income</td>\n",
       "      <td>0.575461</td>\n",
       "      <td>2.885254</td>\n",
       "      <td>22.331650</td>\n",
       "      <td>67.099998</td>\n",
       "      <td>44.71910</td>\n",
       "      <td>38.181818</td>\n",
       "      <td>25.0</td>\n",
       "      <td>1.030</td>\n",
       "      <td>15.600955</td>\n",
       "      <td>39.77528</td>\n",
       "      <td>78.000000</td>\n",
       "      <td>0.002843</td>\n",
       "    </tr>\n",
       "    <tr>\n",
       "      <th>4</th>\n",
       "      <td>Argentina</td>\n",
       "      <td>ARG</td>\n",
       "      <td>Latin America &amp; Caribbean</td>\n",
       "      <td>Upper middle income</td>\n",
       "      <td>0.715061</td>\n",
       "      <td>7.416784</td>\n",
       "      <td>50.852360</td>\n",
       "      <td>49.300000</td>\n",
       "      <td>82.60105</td>\n",
       "      <td>39.513678</td>\n",
       "      <td>14.0</td>\n",
       "      <td>1.040</td>\n",
       "      <td>10.000000</td>\n",
       "      <td>30.93146</td>\n",
       "      <td>32.688641</td>\n",
       "      <td>0.000000</td>\n",
       "    </tr>\n",
       "  </tbody>\n",
       "</table>\n",
       "</div>"
      ],
      "text/plain": [
       "       country country_code                      region         income_group  \\\n",
       "0  Afghanistan          AFG                  South Asia           Low income   \n",
       "1      Albania          ALB       Europe & Central Asia  Upper middle income   \n",
       "2      Algeria          DZA  Middle East & North Africa  Upper middle income   \n",
       "3       Angola          AGO          Sub-Saharan Africa  Upper middle income   \n",
       "4    Argentina          ARG   Latin America & Caribbean  Upper middle income   \n",
       "\n",
       "   wps_index  mean_years_edu  financial_inclusion   emp_rate  cellphone  \\\n",
       "0   0.384880        4.449483             3.812426  16.100000   52.78885   \n",
       "1   0.713595       10.025110            33.594230  45.400000   85.83062   \n",
       "2   0.595061        6.740300            40.070960  14.900000   85.24904   \n",
       "3   0.575461        2.885254            22.331650  67.099998   44.71910   \n",
       "4   0.715061        7.416784            50.852360  49.300000   82.60105   \n",
       "\n",
       "   parliment  legal_discrimination  sex_ratio  unacceptable_work  comm_safety  \\\n",
       "0  28.391167                  45.0      1.060          51.000000     35.45817   \n",
       "1  22.857143                  17.0      1.078           6.000000     55.70033   \n",
       "2  25.785124                  34.0      1.050          45.000000     40.86242   \n",
       "3  38.181818                  25.0      1.030          15.600955     39.77528   \n",
       "4  39.513678                  14.0      1.040          10.000000     30.93146   \n",
       "\n",
       "   lifetime_ipv  organized_violence  \n",
       "0     60.000000           30.916000  \n",
       "1     24.600000            0.000000  \n",
       "2     13.278551            0.519445  \n",
       "3     78.000000            0.002843  \n",
       "4     32.688641            0.000000  "
      ]
     },
     "execution_count": 18,
     "metadata": {},
     "output_type": "execute_result"
    }
   ],
   "source": [
    "country_data = alldata.parse(\"country\")\n",
    "country_data.head()"
   ]
  },
  {
   "cell_type": "code",
   "execution_count": 19,
   "metadata": {},
   "outputs": [
    {
     "data": {
      "text/html": [
       "<div>\n",
       "<style>\n",
       "    .dataframe thead tr:only-child th {\n",
       "        text-align: right;\n",
       "    }\n",
       "\n",
       "    .dataframe thead th {\n",
       "        text-align: left;\n",
       "    }\n",
       "\n",
       "    .dataframe tbody tr th {\n",
       "        vertical-align: top;\n",
       "    }\n",
       "</style>\n",
       "<table border=\"1\" class=\"dataframe\">\n",
       "  <thead>\n",
       "    <tr style=\"text-align: right;\">\n",
       "      <th></th>\n",
       "      <th>country</th>\n",
       "      <th>region</th>\n",
       "      <th>income_group</th>\n",
       "      <th>wps_index</th>\n",
       "      <th>mean_years_edu</th>\n",
       "      <th>financial_inclusion</th>\n",
       "      <th>emp_rate</th>\n",
       "      <th>cellphone</th>\n",
       "      <th>lifetime_ipv</th>\n",
       "    </tr>\n",
       "  </thead>\n",
       "  <tbody>\n",
       "    <tr>\n",
       "      <th>0</th>\n",
       "      <td>Afghanistan</td>\n",
       "      <td>South Asia</td>\n",
       "      <td>Low income</td>\n",
       "      <td>0.384880</td>\n",
       "      <td>4.449483</td>\n",
       "      <td>3.812426</td>\n",
       "      <td>16.100000</td>\n",
       "      <td>52.78885</td>\n",
       "      <td>60.000000</td>\n",
       "    </tr>\n",
       "    <tr>\n",
       "      <th>1</th>\n",
       "      <td>Albania</td>\n",
       "      <td>Europe &amp; Central Asia</td>\n",
       "      <td>Upper middle income</td>\n",
       "      <td>0.713595</td>\n",
       "      <td>10.025110</td>\n",
       "      <td>33.594230</td>\n",
       "      <td>45.400000</td>\n",
       "      <td>85.83062</td>\n",
       "      <td>24.600000</td>\n",
       "    </tr>\n",
       "    <tr>\n",
       "      <th>2</th>\n",
       "      <td>Algeria</td>\n",
       "      <td>Middle East &amp; North Africa</td>\n",
       "      <td>Upper middle income</td>\n",
       "      <td>0.595061</td>\n",
       "      <td>6.740300</td>\n",
       "      <td>40.070960</td>\n",
       "      <td>14.900000</td>\n",
       "      <td>85.24904</td>\n",
       "      <td>13.278551</td>\n",
       "    </tr>\n",
       "    <tr>\n",
       "      <th>3</th>\n",
       "      <td>Angola</td>\n",
       "      <td>Sub-Saharan Africa</td>\n",
       "      <td>Upper middle income</td>\n",
       "      <td>0.575461</td>\n",
       "      <td>2.885254</td>\n",
       "      <td>22.331650</td>\n",
       "      <td>67.099998</td>\n",
       "      <td>44.71910</td>\n",
       "      <td>78.000000</td>\n",
       "    </tr>\n",
       "    <tr>\n",
       "      <th>4</th>\n",
       "      <td>Argentina</td>\n",
       "      <td>Latin America &amp; Caribbean</td>\n",
       "      <td>Upper middle income</td>\n",
       "      <td>0.715061</td>\n",
       "      <td>7.416784</td>\n",
       "      <td>50.852360</td>\n",
       "      <td>49.300000</td>\n",
       "      <td>82.60105</td>\n",
       "      <td>32.688641</td>\n",
       "    </tr>\n",
       "  </tbody>\n",
       "</table>\n",
       "</div>"
      ],
      "text/plain": [
       "       country                      region         income_group  wps_index  \\\n",
       "0  Afghanistan                  South Asia           Low income   0.384880   \n",
       "1      Albania       Europe & Central Asia  Upper middle income   0.713595   \n",
       "2      Algeria  Middle East & North Africa  Upper middle income   0.595061   \n",
       "3       Angola          Sub-Saharan Africa  Upper middle income   0.575461   \n",
       "4    Argentina   Latin America & Caribbean  Upper middle income   0.715061   \n",
       "\n",
       "   mean_years_edu  financial_inclusion   emp_rate  cellphone  lifetime_ipv  \n",
       "0        4.449483             3.812426  16.100000   52.78885     60.000000  \n",
       "1       10.025110            33.594230  45.400000   85.83062     24.600000  \n",
       "2        6.740300            40.070960  14.900000   85.24904     13.278551  \n",
       "3        2.885254            22.331650  67.099998   44.71910     78.000000  \n",
       "4        7.416784            50.852360  49.300000   82.60105     32.688641  "
      ]
     },
     "execution_count": 19,
     "metadata": {},
     "output_type": "execute_result"
    }
   ],
   "source": [
    "country_data = country_data.iloc[:,[0,2,3,4,5,6,7,8,14]]\n",
    "country_data.head()"
   ]
  },
  {
   "cell_type": "code",
   "execution_count": 20,
   "metadata": {},
   "outputs": [
    {
     "data": {
      "text/html": [
       "<div>\n",
       "<style>\n",
       "    .dataframe thead tr:only-child th {\n",
       "        text-align: right;\n",
       "    }\n",
       "\n",
       "    .dataframe thead th {\n",
       "        text-align: left;\n",
       "    }\n",
       "\n",
       "    .dataframe tbody tr th {\n",
       "        vertical-align: top;\n",
       "    }\n",
       "</style>\n",
       "<table border=\"1\" class=\"dataframe\">\n",
       "  <thead>\n",
       "    <tr style=\"text-align: right;\">\n",
       "      <th></th>\n",
       "      <th>country</th>\n",
       "      <th>wps_index</th>\n",
       "      <th>mean_years_edu</th>\n",
       "      <th>financial_inclusion</th>\n",
       "      <th>emp_rate</th>\n",
       "      <th>cellphone</th>\n",
       "      <th>lifetime_ipv</th>\n",
       "    </tr>\n",
       "  </thead>\n",
       "  <tbody>\n",
       "    <tr>\n",
       "      <th>0</th>\n",
       "      <td>Central and Eastern Europe and Central Asia</td>\n",
       "      <td>0.721161</td>\n",
       "      <td>9.106314</td>\n",
       "      <td>58.910937</td>\n",
       "      <td>52.481074</td>\n",
       "      <td>89.673020</td>\n",
       "      <td>20.7667</td>\n",
       "    </tr>\n",
       "    <tr>\n",
       "      <th>1</th>\n",
       "      <td>Developed Regions</td>\n",
       "      <td>0.819477</td>\n",
       "      <td>9.944822</td>\n",
       "      <td>95.544835</td>\n",
       "      <td>51.955871</td>\n",
       "      <td>90.531837</td>\n",
       "      <td>25.1616</td>\n",
       "    </tr>\n",
       "    <tr>\n",
       "      <th>2</th>\n",
       "      <td>East Asia and the Pacific</td>\n",
       "      <td>0.723006</td>\n",
       "      <td>7.146155</td>\n",
       "      <td>65.483817</td>\n",
       "      <td>62.014177</td>\n",
       "      <td>84.187301</td>\n",
       "      <td>29.793</td>\n",
       "    </tr>\n",
       "    <tr>\n",
       "      <th>3</th>\n",
       "      <td>Latin America and the Caribbean</td>\n",
       "      <td>0.684663</td>\n",
       "      <td>7.416784</td>\n",
       "      <td>47.463902</td>\n",
       "      <td>52.326523</td>\n",
       "      <td>74.811957</td>\n",
       "      <td>..</td>\n",
       "    </tr>\n",
       "    <tr>\n",
       "      <th>4</th>\n",
       "      <td>Middle East and North Africa</td>\n",
       "      <td>0.574251</td>\n",
       "      <td>5.439056</td>\n",
       "      <td>23.132846</td>\n",
       "      <td>20.286030</td>\n",
       "      <td>80.151977</td>\n",
       "      <td>..</td>\n",
       "    </tr>\n",
       "    <tr>\n",
       "      <th>5</th>\n",
       "      <td>South Asia</td>\n",
       "      <td>0.634623</td>\n",
       "      <td>4.449483</td>\n",
       "      <td>39.204092</td>\n",
       "      <td>31.524640</td>\n",
       "      <td>67.085527</td>\n",
       "      <td>37.2509</td>\n",
       "    </tr>\n",
       "    <tr>\n",
       "      <th>6</th>\n",
       "      <td>Sub-Saharan Africa</td>\n",
       "      <td>0.621820</td>\n",
       "      <td>2.885254</td>\n",
       "      <td>23.252896</td>\n",
       "      <td>63.263638</td>\n",
       "      <td>63.459144</td>\n",
       "      <td>31.0267</td>\n",
       "    </tr>\n",
       "    <tr>\n",
       "      <th>7</th>\n",
       "      <td>Fragile  States</td>\n",
       "      <td>0.563000</td>\n",
       "      <td>5.100000</td>\n",
       "      <td>9.638035</td>\n",
       "      <td>25.962720</td>\n",
       "      <td>55.975281</td>\n",
       "      <td>28.2256</td>\n",
       "    </tr>\n",
       "    <tr>\n",
       "      <th>8</th>\n",
       "      <td>Global</td>\n",
       "      <td>0.662469</td>\n",
       "      <td>6.760384</td>\n",
       "      <td>55.519335</td>\n",
       "      <td>50.314429</td>\n",
       "      <td>78.368032</td>\n",
       "      <td>30.2583</td>\n",
       "    </tr>\n",
       "  </tbody>\n",
       "</table>\n",
       "</div>"
      ],
      "text/plain": [
       "                                      country   wps_index  mean_years_edu  \\\n",
       "0  Central and Eastern Europe and Central Asia   0.721161        9.106314   \n",
       "1                            Developed Regions   0.819477        9.944822   \n",
       "2                    East Asia and the Pacific   0.723006        7.146155   \n",
       "3              Latin America and the Caribbean   0.684663        7.416784   \n",
       "4                 Middle East and North Africa   0.574251        5.439056   \n",
       "5                                   South Asia   0.634623        4.449483   \n",
       "6                           Sub-Saharan Africa   0.621820        2.885254   \n",
       "7                              Fragile  States   0.563000        5.100000   \n",
       "8                                       Global   0.662469        6.760384   \n",
       "\n",
       "   financial_inclusion   emp_rate  cellphone lifetime_ipv  \n",
       "0            58.910937  52.481074  89.673020      20.7667  \n",
       "1            95.544835  51.955871  90.531837      25.1616  \n",
       "2            65.483817  62.014177  84.187301       29.793  \n",
       "3            47.463902  52.326523  74.811957           ..  \n",
       "4            23.132846  20.286030  80.151977           ..  \n",
       "5            39.204092  31.524640  67.085527      37.2509  \n",
       "6            23.252896  63.263638  63.459144      31.0267  \n",
       "7             9.638035  25.962720  55.975281      28.2256  \n",
       "8            55.519335  50.314429  78.368032      30.2583  "
      ]
     },
     "execution_count": 20,
     "metadata": {},
     "output_type": "execute_result"
    }
   ],
   "source": [
    "region_data = alldata.parse(\"region\")\n",
    "region_data = region_data.iloc[:,[0,1,2,3,4,5,11]]\n",
    "region_data"
   ]
  },
  {
   "cell_type": "markdown",
   "metadata": {},
   "source": [
    "## - Make graphs"
   ]
  },
  {
   "cell_type": "markdown",
   "metadata": {},
   "source": [
    "### 1) Scatter Plots"
   ]
  },
  {
   "cell_type": "markdown",
   "metadata": {},
   "source": [
    "- function: scatter https://matplotlib.org/devdocs/api/_as_gen/matplotlib.pyplot.scatter.html\n",
    "    * scatter(x, y, s=, c=, marker=, alpha=, linewidths=, edgecolors=None,**kwargs) \n",
    "- function: legned https://matplotlib.org/users/legend_guide.html\n",
    "    * legend(handels, labels, bbox_to_anchor=(x,y), ncol=, borderaxespad=,handletextpad=)\n",
    "- marker types: http://matplotlib.org/api/markers_api.html?highlight=marker\n",
    "    * \".\": point\n",
    "    * \",\": pixel\n",
    "    * \"o\": circle\n",
    "    * \"v\": triangle_down\n",
    "    * \"^\": triangle_up\n",
    "- color names:\n",
    "    * b: blue\n",
    "    * g: green\n",
    "    * r: red\n",
    "    * c: cyan\n",
    "    * m: magenta\n",
    "    * y: yellow\n",
    "    * k: black\n",
    "    * w: white"
   ]
  },
  {
   "cell_type": "code",
   "execution_count": 21,
   "metadata": {},
   "outputs": [
    {
     "data": {
      "text/plain": [
       "array([[ 1.        , -0.43203838],\n",
       "       [-0.43203838,  1.        ]])"
      ]
     },
     "execution_count": 21,
     "metadata": {},
     "output_type": "execute_result"
    }
   ],
   "source": [
    "np.corrcoef(country_data.wps_index,country_data.lifetime_ipv)"
   ]
  },
  {
   "cell_type": "code",
   "execution_count": 22,
   "metadata": {},
   "outputs": [],
   "source": [
    "#np.corrcoef(country_data['wps_index'], country_data['lifetime_ipv'])"
   ]
  },
  {
   "cell_type": "markdown",
   "metadata": {},
   "source": [
    "#### Scatter Plots: All countries"
   ]
  },
  {
   "cell_type": "code",
   "execution_count": 23,
   "metadata": {},
   "outputs": [
    {
     "data": {
      "image/png": "[encoded data removed]",
      "text/plain": [
       "<matplotlib.figure.Figure at 0x11cd4e780>"
      ]
     },
     "metadata": {},
     "output_type": "display_data"
    }
   ],
   "source": [
    "##### Inital Set-up ####\n",
    "fig, ax = plt.subplots(figsize = (10,10))\n",
    "# axis value\n",
    "x = country_data.wps_index\n",
    "y = country_data.lifetime_ipv\n",
    "# axis range\n",
    "ax.set_xlim(0.3,1)\n",
    "ax.set_ylim(0,80)\n",
    "# color opacity\n",
    "opacity = 0.7\n",
    "\n",
    "##### Scatters Plots #####\n",
    "ax.scatter(x ,y, s=200, marker=\"o\", color=my_color[1], alpha=opacity, linewidths=1, edgecolor=None)\n",
    "\n",
    "##### Fit with correlation line (Optional) #####\n",
    "fit = np.polyfit(x, y, deg=1)\n",
    "ax.plot(x, fit[0] * x + fit[1], color=\"k\", linewidth=0.8, linestyle=\"--\")\n",
    "\n",
    "##### Title and labels #####\n",
    "#ax1.set_title('Women Pease and Security Index and Lifetime IPV Rate, 2016', fontsize=24,color='k')\n",
    "ax.set_ylabel(\"Lifetime Year Physical IPV Rate (Percent)\",fontsize=20,color=\"black\")\n",
    "ax.set_xlabel(\"Women Peace and Security Index (0-1)\",fontsize=20,color=\"black\")\n",
    "\n",
    "##### Colorcode the tick tabs #####\n",
    "ax.tick_params(axis='x', colors='k',labelsize=20)\n",
    "ax.tick_params(axis='y', colors='k',labelsize=20)\n",
    "\n",
    "##### Colorcode the spine of the graph #####\n",
    "ax.spines['bottom'].set_color('k')\n",
    "ax.spines['top'].set_color('k')\n",
    "ax.spines['left'].set_color('k')\n",
    "ax.spines['right'].set_color('k')\n",
    "    \n",
    "##### Add country labels #####\n",
    "selected_ctry = ['Afghanistan','Dem. Rep. Congo','Bolivia','Bangladesh','Iceland','Angola','Cameroon',\n",
    "                 'Rwanda','Comoros','Singapore', 'Yemen']\n",
    "#                  ,'Kenya','Mali','Liberia',\n",
    "#                  'Gabon', 'Uganda','India','Israel', 'Moldova',\n",
    "#                  'Peru','Haiti','Nepal','Ecuador','Nigeria',\n",
    "#                  'Albania','Korea','Vietnam','Mexico','Estonia',\n",
    "#                  'Paraguay','United States','Japan',\n",
    "#                  'Egypt', 'Pakistan','Yemen']\n",
    "\n",
    "for ctry in selected_ctry:\n",
    "     ax.text(country_data['wps_index'][country_data.country == ctry], \n",
    "              country_data[\"lifetime_ipv\"][country_data.country == ctry]+0.5,\n",
    "              ctry,ha='center', va='bottom',color='k',fontsize=13,zorder=6)\n",
    "    \n",
    "##### Source text #####\n",
    "#ax1.text(0.3,-14,\"Source: UN Women.\", color=\"k\",fontsize=18)\n",
    "ax.text(0.75, 70, 'Correlation = -0.43', color='k', fontsize=20)\n",
    "\n",
    "# Show the plot/image  \n",
    "ax.grid(alpha=0.8,linestyle='--')\n",
    "ax.xaxis.grid(True)\n",
    "ax.yaxis.grid(True)\n",
    "plt.savefig(\"/Users/lili/Documents/Harvard/DB_MPAID/RA_Jeni/Python_training/graphs/figure_wps_a.jpg\",\n",
    "            bbox_inches='tight')\n",
    "plt.show();"
   ]
  },
  {
   "cell_type": "markdown",
   "metadata": {},
   "source": [
    "#### Scatter Plots: All countries by region"
   ]
  },
  {
   "cell_type": "code",
   "execution_count": 24,
   "metadata": {},
   "outputs": [
    {
     "data": {
      "text/plain": [
       "array(['South Asia', 'Europe & Central Asia', 'Middle East & North Africa',\n",
       "       'Sub-Saharan Africa', 'Latin America & Caribbean',\n",
       "       'East Asia & Pacific', 'North America'], dtype=object)"
      ]
     },
     "execution_count": 24,
     "metadata": {},
     "output_type": "execute_result"
    }
   ],
   "source": [
    "country_data.region.unique()"
   ]
  },
  {
   "cell_type": "code",
   "execution_count": 25,
   "metadata": {},
   "outputs": [
    {
     "ename": "NameError",
     "evalue": "name 'y1' is not defined",
     "output_type": "error",
     "traceback": [
      "\u001b[0;31m---------------------------------------------------------------------------\u001b[0m",
      "\u001b[0;31mNameError\u001b[0m                                 Traceback (most recent call last)",
      "\u001b[0;32m<ipython-input-25-247b582c3c64>\u001b[0m in \u001b[0;36m<module>\u001b[0;34m()\u001b[0m\n\u001b[1;32m     21\u001b[0m \u001b[0;34m\u001b[0m\u001b[0m\n\u001b[1;32m     22\u001b[0m group2 = ax.scatter(x[country_data.region==\"Middle East & North Africa\"],\n\u001b[0;32m---> 23\u001b[0;31m                     \u001b[0my1\u001b[0m\u001b[0;34m[\u001b[0m\u001b[0mcountry_data\u001b[0m\u001b[0;34m.\u001b[0m\u001b[0mregion\u001b[0m\u001b[0;34m==\u001b[0m\u001b[0;34m\"Middle East & North Africa\"\u001b[0m\u001b[0;34m]\u001b[0m\u001b[0;34m,\u001b[0m\u001b[0;34m\u001b[0m\u001b[0m\n\u001b[0m\u001b[1;32m     24\u001b[0m                     s=200, marker=\"o\", color=my_color[1], alpha=opacity, linewidths=1)\n\u001b[1;32m     25\u001b[0m \u001b[0;34m\u001b[0m\u001b[0m\n",
      "\u001b[0;31mNameError\u001b[0m: name 'y1' is not defined"
     ]
    },
    {
     "data": {
      "image/png": "[encoded data removed]",
      "text/plain": [
       "<matplotlib.figure.Figure at 0x11cdbe240>"
      ]
     },
     "metadata": {},
     "output_type": "display_data"
    }
   ],
   "source": [
    "#### Create lables ####\n",
    "labels = ['Sub-Saharan Africa', 'Middle East & North Africa',\n",
    "          'Europe & Central Asia', 'South Asia', 'East Asia & Pacific',\n",
    "          'Latin America & Caribbean', 'North America']\n",
    "\n",
    "##### Inital Set-up ####\n",
    "fig, ax = plt.subplots(figsize = (10,10))\n",
    "# axis value\n",
    "x = country_data.wps_index\n",
    "y = country_data.lifetime_ipv\n",
    "# axis range\n",
    "ax.set_xlim(0.3,1)\n",
    "ax.set_ylim(0,80)\n",
    "# color opacity\n",
    "opacity = 0.8\n",
    "\n",
    "##### Scatters Plots #####\n",
    "group1 = ax.scatter(x[country_data.region==\"Sub-Saharan Africa\"],      \n",
    "                    y[country_data.region==\"Sub-Saharan Africa\"],      \n",
    "                    s=200, marker=\"o\", color=my_color[0], alpha=opacity, linewidths=1, edgecolor='k')\n",
    "\n",
    "group2 = ax.scatter(x[country_data.region==\"Middle East & North Africa\"],\n",
    "                    y1[country_data.region==\"Middle East & North Africa\"],\n",
    "                    s=200, marker=\"o\", color=my_color[1], alpha=opacity, linewidths=1)\n",
    "\n",
    "group3 = ax.scatter(x[country_data.region==\"Europe & Central Asia\"],     \n",
    "                    y[country_data.region==\"Europe & Central Asia\"],     \n",
    "                    s=200, marker=\"o\", color=my_color[2], alpha=opacity, linewidths=1)\n",
    "\n",
    "group4 = ax.scatter(x[country_data.region==\"South Asia\"],               \n",
    "                    y[country_data.region==\"South Asia\"],               \n",
    "                    s=200, marker=\"o\", color=my_color[3], alpha=opacity, linewidths=1)\n",
    "\n",
    "group5 = ax.scatter(x[country_data.region==\"East Asia & Pacific\"],       \n",
    "                    y[country_data.region==\"East Asia & Pacific\"],      \n",
    "                    s=200, marker='o', color=my_color[4], alpha=opacity, linewidths=1)\n",
    "\n",
    "group6 = ax.scatter(x[country_data.region==\"Latin America & Caribbean\"],\n",
    "                    y[country_data.region==\"Latin America & Caribbean\"],\n",
    "                    s=200, marker='o', color=my_color[5], alpha=opacity, linewidths=1)\n",
    "\n",
    "group7 = ax.scatter(x[country_data.region==\"North America\"],           \n",
    "                    y[country_data.region==\"North America\"],\n",
    "                    s=200, marker='o', color=my_color[6], alpha=opacity, linewidths=1)\n",
    "\n",
    "##### Fit with correlation line (Optional) #####\n",
    "fit = np.polyfit(x, y, deg=1)\n",
    "ax.plot(x, fit[0] * x + fit[1], color=\"k\", linewidth=0.8, linestyle=\"--\")\n",
    "\n",
    "##### Title and labels #####\n",
    "#ax1.set_title('Women Pease and Security Index and Lifetime IPV Rate, 2016', fontsize=24,color='k')\n",
    "ax.set_ylabel(\"Liftime Physical IPV Rate (Percent)\",fontsize=20,color=\"black\")\n",
    "ax.set_xlabel(\"Women Peace and Security Index (0-1)\",fontsize=20,color=\"black\")\n",
    "\n",
    "##### Colorcode the tick tabs #####\n",
    "ax.tick_params(axis='x', colors='k',labelsize=20)\n",
    "ax.tick_params(axis='y', colors='k',labelsize=20)\n",
    "\n",
    "##### Colorcode the spine of the graph #####\n",
    "ax.spines['bottom'].set_color('k')\n",
    "ax.spines['top'].set_color('k')\n",
    "ax.spines['left'].set_color('k')\n",
    "ax.spines['right'].set_color('k')\n",
    "\n",
    "##### Legend #####\n",
    "leg1=ax.legend((group1,group2,group3,group4,group5,group6,group7),labels,\n",
    "                loc='upper right',fontsize=20,bbox_to_anchor=(1.9,1.3),ncol=1, borderaxespad=9,handletextpad=0)\n",
    "for text in leg1.get_texts():\n",
    "    plt.setp(text,color='k')\n",
    "    \n",
    "##### Add country labels #####\n",
    "selected_ctry = ['Kenya','Rwanda','Mali','Liberia','Cameroon','Angola',\n",
    "                 'Gabon', 'Uganda','India','Israel', 'Moldova',\n",
    "                 'Peru','Haiti','Nepal','Ecuador','Comoros','Nigeria',\n",
    "                 'Albania','Korea','Vietnam','Mexico','Estonia',\n",
    "                 'Singapore','Dem. Rep. Congo','Paraguay','Bolivia','United States','Japan','Iceland',\n",
    "                 'Egypt','Bangladesh', 'Pakistan','Afghanistan','Yemen']\n",
    "\n",
    "for ctry in selected_ctry:\n",
    "     ax.text(country_data['wps_index'][country_data.country == ctry], \n",
    "              country_data[\"lifetime_ipv\"][country_data.country == ctry]+0.5,\n",
    "              ctry,ha='center', va='bottom',color='k',fontsize=13,zorder=10)\n",
    "    \n",
    "##### Source text #####\n",
    "#ax1.text(0.3,-14,\"Source: UN Women.\", color=\"k\",fontsize=18)\n",
    "ax.text(0.75, 70, 'Correlation = -0.43', color='k', fontsize=20)\n",
    "\n",
    "# Show the plot/image  \n",
    "ax.grid(alpha=0.8,linestyle='--')\n",
    "ax.xaxis.grid(True)\n",
    "ax.yaxis.grid(True)\n",
    "plt.savefig(\"/Users/lili/Documents/Harvard/DB_MPAID/RA_Jeni/Python_training/graphs/figure_wps_b.jpg\",\n",
    "            bbox_inches='tight')\n",
    "plt.show();"
   ]
  },
  {
   "cell_type": "markdown",
   "metadata": {},
   "source": [
    "### 2) Bar Charts"
   ]
  },
  {
   "cell_type": "markdown",
   "metadata": {},
   "source": [
    "- bar charts: https://matplotlib.org/devdocs/api/_as_gen/matplotlib.pyplot.bar.html\n",
    "    * bar(x, height, width, alpha=, color=, opacity=, label='', align='center', **kwargs)\n",
    "- vertial lines https://matplotlib.org/devdocs/api/_as_gen/matplotlib.axes.Axes.vlines.html\n",
    "    * vlines(x, ymin, ymax, colors=, linestyles=, label='', **kwargs)¶\n",
    "- linestyles: https://matplotlib.org/examples/lines_bars_and_markers/line_styles_reference.html\n",
    "    * \"solid\"\n",
    "    * \"dotted\"\n",
    "    * \"--\"\n",
    "    * \"-.\""
   ]
  },
  {
   "cell_type": "markdown",
   "metadata": {},
   "source": [
    "#### Scatter Plots: Simple Bart Chart"
   ]
  },
  {
   "cell_type": "code",
   "execution_count": null,
   "metadata": {},
   "outputs": [],
   "source": [
    "# get the data\n",
    "legislation = alldata.parse(\"legislation\")\n",
    "legislation.head()"
   ]
  },
  {
   "cell_type": "code",
   "execution_count": null,
   "metadata": {},
   "outputs": [],
   "source": [
    "##### Initial setup ####\n",
    "# lables and y-values\n",
    "n_groups = 24\n",
    "labels = legislation['year']\n",
    "value = legislation['value']\n",
    "\n",
    "fig, ax = plt.subplots(figsize=(12,7))\n",
    "index = np.arange(n_groups)\n",
    "opacity = 1\n",
    "ax.set_ylim(0,80)\n",
    "bar_width = 0.5\n",
    "\n",
    "##### Bars #####\n",
    "plt.bar(index, value, bar_width, alpha=opacity, color=my_color[1], label='Number', zorder=1)\n",
    "\n",
    "##### Lables, titles and legneds #####\n",
    "#plt.xlabel('Year',fontsize=20,color=\"k\")\n",
    "plt.ylabel('Cumulative Number of Countries',fontsize=20,color=\"k\")\n",
    "leg1 = plt.legend(loc=\"upper left\", fontsize=20, ncol=1)\n",
    "for text in leg1.get_texts():\n",
    "    plt.setp(text,color='k')\n",
    "\n",
    "##### Colorcode the tick tabs ####\n",
    "ax.tick_params(axis='x', colors='k', labelsize=18)\n",
    "ax.tick_params(axis='y', colors='k', labelsize=20)\n",
    "plt.xticks(index, (labels), ha=\"center\")\n",
    "plt.xticks(rotation=90)\n",
    "\n",
    "#### Colorcode the spine of the graph ####\n",
    "ax.spines['bottom'].set_color('k')\n",
    "ax.spines['top'].set_color('k')\n",
    "ax.spines['left'].set_color('k')\n",
    "ax.spines['right'].set_color('k')\n",
    "\n",
    "#### Other texts ####\n",
    "ax.text(-0.5,-18,'Source: Women Business and the Law, 2016',fontsize=16,color=\"k\")\n",
    "\n",
    "# Show the plot/image\n",
    "plt.tight_layout()\n",
    "plt.grid(alpha=0.8,linestyle='--')\n",
    "ax.xaxis.grid(False)\n",
    "plt.margins(0.01,0.02)\n",
    "plt.savefig(\"/Users/lili/Documents/Harvard/DB_MPAID/RA_Jeni/Python_training/graphs/figure_law.jpg\"\n",
    "            ,bbox_inches='tight')\n",
    "plt.show();"
   ]
  },
  {
   "cell_type": "markdown",
   "metadata": {},
   "source": [
    "#### Scatter Plots: Bart Chart with Vertical Lines"
   ]
  },
  {
   "cell_type": "code",
   "execution_count": null,
   "metadata": {},
   "outputs": [],
   "source": [
    "# get the data\n",
    "regional_stats = alldata.parse(\"regional_stats\")\n",
    "regional_stats"
   ]
  },
  {
   "cell_type": "code",
   "execution_count": null,
   "metadata": {},
   "outputs": [],
   "source": [
    "#### Create lables ####\n",
    "labels = ['Sub-Saharan\\nAfrica', 'Middle East &\\nNorth Africa',\n",
    "          'Europe &\\nCentral Asia', 'South Asia', 'East Asia\\n& Pacific',\n",
    "          'Latin America\\n& Caribbean','North\\nAmerica']\n",
    "\n",
    "##### Initial setup ####\n",
    "# x-axis value: Create group counts\n",
    "n_groups = 7\n",
    "# y-axis value\n",
    "y_avg = regional_stats[\"ipv_12mon\"][regional_stats.max_min == \"avg\"]\n",
    "y_min = regional_stats[\"ipv_12mon\"][regional_stats.max_min == \"min\"]\n",
    "y_max = regional_stats[\"ipv_12mon\"][regional_stats.max_min == \"max\"]\n",
    "# general setups\n",
    "fig, ax = plt.subplots(figsize=(14,7))\n",
    "index = np.arange(n_groups)\n",
    "opacity = 1\n",
    "ax.set_ylim(-0.6,50)\n",
    "bar_width = 0.35\n",
    "\n",
    "#### Bars, scatters, and lines ####\n",
    "bar1 = plt.bar(index, y_avg, bar_width, alpha=opacity, color=my_color[3], label='Average', zorder=1)\n",
    "\n",
    "lines = plt.vlines(index, y_min,y_max, linewidth=3, linestyle=\"dotted\", zorder=2)\n",
    "\n",
    "scatter1 = plt.scatter(index, y_max, marker=\"o\", \n",
    "                       s=500, alpha=opacity, color=my_color[1], label='Max', zorder=3, edgecolor=\"k\", linewidth=1)\n",
    "\n",
    "scatter2 = plt.scatter(index, y_min, marker=\"o\", \n",
    "                       s=500, alpha=opacity, color=my_color[0], label='Min', zorder=3, edgecolor=\"k\", linewidth=1)\n",
    "\n",
    "\n",
    "#### Lables and titles ####\n",
    "#plt.xlabel('Region',fontsize=20,color=\"k\")\n",
    "plt.ylabel('Past Year IPV Rate (Percent)',fontsize=20,color=\"k\")\n",
    "#plt.xticks(index, (labels), ha=\"center\")\n",
    "\n",
    "for i,txt in enumerate(labels):\n",
    "    ax.text(index[i], -4, txt, \n",
    "            ha='center', va='top',color='k',fontsize=18, zorder=6)\n",
    "\n",
    "#### Legends ####\n",
    "leg1 = plt.legend(loc=\"upper right\", fontsize=20, ncol=1)\n",
    "for text in leg1.get_texts():\n",
    "    plt.setp(text,color='k')\n",
    "\n",
    "#### Label country outliers ####\n",
    "for i,x in enumerate(y_max):\n",
    "    ax.text(i, x+1.5, regional_stats[regional_stats.max_min == \"max\"].country[i+7], \n",
    "            ha='center', va='bottom',color='k',fontsize=16)\n",
    "\n",
    "for i,x in enumerate(y_min):\n",
    "    ax.text(i, x-3.5, regional_stats[regional_stats.max_min == \"min\"].country[i+14], \n",
    "            ha='center', va='bottom',color='k',fontsize=16)\n",
    "\n",
    "#### Other texts #####\n",
    "ax.text(-0.6,-13,\"Source: Author estimates based on United Nations (2015). The World's Women 2015: Trends and Statistics.\",fontsize=16,color=\"k\")\n",
    "\n",
    "#### Colorcode the tick tabs ####\n",
    "ax.tick_params(axis='x', colors='w',labelsize=18)\n",
    "ax.tick_params(axis='y', colors='k',labelsize=20)\n",
    "\n",
    "##### Colorcode the spine of the graph #####\n",
    "ax.spines['bottom'].set_color('k')\n",
    "ax.spines['top'].set_color('k')\n",
    "ax.spines['left'].set_color('k')\n",
    "ax.spines['right'].set_color('k')\n",
    "\n",
    "##### Show the plot/image #####\n",
    "plt.tight_layout()\n",
    "plt.grid(alpha=0.8,linestyle='--')\n",
    "ax.xaxis.grid(False)\n",
    "plt.margins(0.07,0.02)\n",
    "plt.savefig(\"/Users/lili/Documents/Harvard/DB_MPAID/RA_Jeni/Python_training/graphs/figure_ipv.jpg\",\n",
    "            bbox_inches='tight')\n",
    "plt.show();"
   ]
  },
  {
   "cell_type": "markdown",
   "metadata": {},
   "source": [
    " ### 3) Line Charts"
   ]
  },
  {
   "cell_type": "markdown",
   "metadata": {},
   "source": [
    "- line charts: https://matplotlib.org/users/pyplot_tutorial.html\n",
    "    * plot(x, y, alpha=, color=, opacity=, label='', **kwargs)\n",
    "- linestyles: https://matplotlib.org/examples/lines_bars_and_markers/line_styles_reference.html\n",
    "    * \"solid\"\n",
    "    * \"dotted\"\n",
    "    * \"--\"\n",
    "    * \"-.\""
   ]
  },
  {
   "cell_type": "code",
   "execution_count": null,
   "metadata": {},
   "outputs": [],
   "source": [
    "# get the data\n",
    "mlfp = alldata.parse(\"male_labor_force\")\n",
    "flfp = alldata.parse(\"female_labor_force\")\n",
    "mlfp.head()"
   ]
  },
  {
   "cell_type": "code",
   "execution_count": null,
   "metadata": {
    "collapsed": true
   },
   "outputs": [],
   "source": [
    "share1990 = 80.6\n",
    "share2015 = 76.2"
   ]
  },
  {
   "cell_type": "code",
   "execution_count": null,
   "metadata": {},
   "outputs": [],
   "source": [
    "#### Create lables ####\n",
    "labels = ['South Asia','East Asia and the Pacific','Latin America and the Caribbean','World','Developed Regions']\n",
    "\n",
    "#### Initial setup ####\n",
    "fig, ax = plt.subplots(figsize=(8,7))\n",
    "\n",
    "### Line plots ####\n",
    "ax.plot(mlfp.MLFPR15, mlfp['South Asia']                     , color=my_color[4], linewidth=3, linestyle=\"-.\")\n",
    "ax.plot(mlfp.MLFPR15, mlfp['East Asia and the Pacific']      , color=my_color[1], linewidth=3)\n",
    "ax.plot(mlfp.MLFPR15, mlfp['Latin America and the Caribbean'], color=my_color[2], linewidth=3, linestyle=\"--\")\n",
    "ax.plot(mlfp.MLFPR15, mlfp['World']                          , color=my_color[5], linewidth=3)\n",
    "ax.plot(mlfp.MLFPR15, mlfp['Developed Regions']              , color=my_color[3], linewidth=3)\n",
    "\n",
    "##### Set tick rang ####\n",
    "ax.set_ylim(65,90)\n",
    "\n",
    "#### titles and labels ####\n",
    "#ax.set_title('', color='k', position=(1,1.2),fontsize=22)\n",
    "ax.set_xlabel('Year', color='k',fontsize=20)\n",
    "ax.set_ylabel('Male Labour Force Participation (% age 15+)', color='k',fontsize=20)\n",
    "\n",
    "#### Legend ####\n",
    "leg1 = ax.legend(labels,loc='upper right',fontsize=20,bbox_to_anchor=(2.15,1.2), ncol=1, \n",
    "                 borderaxespad=10,handletextpad=0.5)\n",
    "for text in leg1.get_texts():\n",
    "    plt.setp(text,color='k')\n",
    "\n",
    "##### Colorcode the tick tabs ####\n",
    "ax.tick_params(axis='x', colors='k',labelsize=20)\n",
    "ax.tick_params(axis='y', colors='k',labelsize=20)\n",
    "\n",
    "#### Colorcode the spine of the graph ####\n",
    "ax.spines['bottom'].set_color('k')\n",
    "ax.spines['top'].set_color('k')\n",
    "ax.spines['left'].set_color('k')\n",
    "ax.spines['right'].set_color('k')\n",
    "\n",
    "#### Other texts ####\n",
    "# Important numbers\n",
    "ax.annotate(share1990,(1990,share1990-2), va='bottom',color=\"k\",fontsize=18,\n",
    "            bbox=dict(boxstyle='round', fc=my_color[5], alpha=0.5))\n",
    "\n",
    "ax.annotate(share2015,(2013,share2015-2), va='bottom',color=\"k\",fontsize=18,\n",
    "            bbox=dict(boxstyle='round', fc=my_color[5], alpha=0.5))\n",
    "# Source\n",
    "ax.text(1989,58,'Note: Weighted regional average. 180 countries are included.\\nSource: International Labor Organization Key Indicators of the Labour Market (Table 1A).',fontsize=16,color=\"k\")\n",
    "\n",
    "# Show the plot/image\n",
    "plt.tight_layout()\n",
    "plt.grid(alpha=0.8,linestyle='--')\n",
    "ax.xaxis.grid(False)\n",
    "plt.savefig(\"/Users/lili/Documents/Harvard/DB_MPAID/RA_Jeni/Python_training/graphs/figure_mlf.jpg\",\n",
    "            bbox_inches='tight')\n",
    "plt.show();"
   ]
  },
  {
   "cell_type": "markdown",
   "metadata": {},
   "source": [
    "### 4) Two Paralelle Chartes"
   ]
  },
  {
   "cell_type": "markdown",
   "metadata": {},
   "source": [
    "#### Scatter Plots: Bart Chart with Vertical Lines (Left and Right)"
   ]
  },
  {
   "cell_type": "code",
   "execution_count": null,
   "metadata": {},
   "outputs": [],
   "source": [
    "#### Create Labels ####\n",
    "label_region = ['South Asia','East Asia and the Pacific','Developed Regions','World']\n",
    "label_sex = [\"Female\",\"Male\"]\n",
    "\n",
    "#### Initial setup ####\n",
    "# Creat group counts\n",
    "n_groups = 5\n",
    "# x-values\n",
    "x1 = mlfp.MLFPR15\n",
    "x2 = flfp.FLFPR15\n",
    "\n",
    "fig, (ax1, ax2) = plt.subplots(1,2, sharey=False, figsize=(14,6))\n",
    "bar_width = 0.5\n",
    "opacity = 1\n",
    "index = np.arange(n_groups)\n",
    "\n",
    "#### Lines ####\n",
    "# Lines 1\n",
    "line1a=ax1.plot(x1, mlfp[\"South Asia\"]               , color=my_color[1], alpha=opacity)\n",
    "line1b=ax1.plot(x1, mlfp[\"East Asia and the Pacific\"], color=my_color[3], alpha=opacity, linestyle=\"--\")\n",
    "line1c=ax1.plot(x1, mlfp[\"Developed Regions\"]        , color=my_color[4], alpha=opacity)\n",
    "line1d=ax1.plot(x1, mlfp[\"World\"]                    , color=my_color[5], alpha=opacity, linestyle=\"dotted\")\n",
    "# Lines 2\n",
    "line2a=ax2.plot(x2, flfp[\"South Asia\"]               , color=my_color[1], alpha=opacity)\n",
    "line2b=ax2.plot(x2, flfp[\"East Asia and the Pacific\"], color=my_color[3], alpha=opacity, linestyle=\"--\")\n",
    "line2c=ax2.plot(x2, flfp[\"Developed Regions\"]        , color=my_color[4], alpha=opacity)\n",
    "line2d=ax2.plot(x2, flfp[\"World\"]                    , color=my_color[5], alpha=opacity, linestyle=\"dotted\")\n",
    "\n",
    "#### y axis max and min ####\n",
    "ax1.set_ylim(60,90)\n",
    "ax2.set_ylim(20,80)\n",
    "\n",
    "#### Lables and ticks ####\n",
    "ax1.set_ylabel(\"Labor Force Participaiton (Percent)\",fontsize=18,color=\"k\")\n",
    "ax1.set_xlabel(\"Male\",fontsize=20,color=\"k\")\n",
    "\n",
    "ax2.set_ylabel(\"Labor Force Participaiton (Percent)\",fontsize=18,color=\"k\")\n",
    "ax2.set_xlabel(\"Female\",fontsize=20,color=\"k\")\n",
    "\n",
    "#### Colorcode the tick tabs ####\n",
    "ax1.tick_params(axis='x', colors='k',labelsize=20)\n",
    "ax1.tick_params(axis='y', colors='k',labelsize=20)\n",
    "ax2.tick_params(axis='x', colors='k',labelsize=20)\n",
    "ax2.tick_params(axis='y', colors='k',labelsize=20)\n",
    "\n",
    "#### Legend ####\n",
    "leg1 = ax1.legend(labels,loc='upper right',fontsize=20,bbox_to_anchor=(2.6,1.75), ncol=4, \n",
    "                  borderaxespad=10,handletextpad=0.5)\n",
    "for text in leg1.get_texts():\n",
    "    plt.setp(text,color='k')\n",
    "\n",
    "#### Colorcode the spine of the graph ####\n",
    "ax1.spines['bottom'].set_color('k')\n",
    "ax1.spines['top'].set_color('k')\n",
    "ax1.spines['left'].set_color('k')\n",
    "ax1.spines['right'].set_color('k')\n",
    "\n",
    "ax2.spines['bottom'].set_color('k')\n",
    "ax2.spines['top'].set_color('k')\n",
    "ax2.spines['left'].set_color('k')\n",
    "ax2.spines['right'].set_color('k')\n",
    "\n",
    "#### Show the plot/image ####\n",
    "ax1.grid(alpha=0.8,linestyle='--')\n",
    "ax1.xaxis.grid(False)\n",
    "ax1.yaxis.grid(True)\n",
    "\n",
    "ax2.grid(alpha=0.8,linestyle='--')\n",
    "ax2.xaxis.grid(False)\n",
    "ax2.yaxis.grid(True)\n",
    "\n",
    "fig.tight_layout()\n",
    "plt.margins(0.02)\n",
    "plt.savefig(\"/Users/lili/Documents/Harvard/DB_MPAID/RA_Jeni/Python_training/graphs/figure_lf_b.jpg\",\n",
    "            bbox_inches='tight')\n",
    "plt.show();"
   ]
  },
  {
   "cell_type": "markdown",
   "metadata": {},
   "source": [
    "#### Scatter Plots: Bart Chart with Vertical Lines (Up and Down)"
   ]
  },
  {
   "cell_type": "code",
   "execution_count": null,
   "metadata": {},
   "outputs": [],
   "source": [
    "#### Create Labels ####\n",
    "label_region = labels = ['South Asia','East Asia and the Pacific','Developed Regions','World']\n",
    "label_sex = [\"Female\",\"Male\"]\n",
    "\n",
    "#### Initial setup ####\n",
    "# Creat group counts\n",
    "n_groups = 5\n",
    "# x-values\n",
    "x1 = mlfp.MLFPR15\n",
    "x2 = flfp.FLFPR15\n",
    "\n",
    "fig, (ax1, ax2) = plt.subplots(2,1, sharey=False, figsize=(10,9))\n",
    "bar_width = 0.5\n",
    "opacity = 1\n",
    "index = np.arange(n_groups)\n",
    "\n",
    "#### Lines ####\n",
    "# Lines 1\n",
    "line1a=ax1.plot(x1, mlfp[\"South Asia\"]               , color=my_color[1], alpha=opacity)\n",
    "line1b=ax1.plot(x1, mlfp[\"East Asia and the Pacific\"], color=my_color[3], alpha=opacity, linestyle=\"--\")\n",
    "line1c=ax1.plot(x1, mlfp[\"Developed Regions\"]        , color=my_color[4], alpha=opacity)\n",
    "line1d=ax1.plot(x1, mlfp[\"World\"]                    , color=my_color[5], alpha=opacity, linestyle=\"dotted\")\n",
    "# Lines 2\n",
    "line2a=ax2.plot(x2, flfp[\"South Asia\"]               , color=my_color[1], alpha=opacity)\n",
    "line2b=ax2.plot(x2, flfp[\"East Asia and the Pacific\"], color=my_color[3], alpha=opacity, linestyle=\"--\")\n",
    "line2c=ax2.plot(x2, flfp[\"Developed Regions\"]        , color=my_color[4], alpha=opacity)\n",
    "line2d=ax2.plot(x2, flfp[\"World\"]                    , color=my_color[5], alpha=opacity, linestyle=\"dotted\")\n",
    "# Scatters 1\n",
    "scatter1a=ax1.scatter(x1, mlfp[\"South Asia\"], \n",
    "                      s=80,marker=\"s\",color=my_color[1], alpha=opacity, label=\"South Asia\")\n",
    "scatter1b=ax1.scatter(x1, mlfp[\"East Asia and the Pacific\"], \n",
    "                      s=80,marker=\"^\",color=my_color[3], alpha=opacity, label=\"East Asia and the Pacific\")\n",
    "scatter1c=ax1.scatter(x1, mlfp[\"Developed Regions\"], \n",
    "                      s=80,marker=\"p\",color=my_color[4], alpha=opacity, label=\"Developed Regions\")\n",
    "scatter1d=ax1.scatter(x1, mlfp[\"World\"], \n",
    "                      s=100,marker=\"p\",color=my_color[5], alpha=opacity, label=\"World\")\n",
    "# Scatters 2\n",
    "scatter2a=ax2.scatter(x2, flfp[\"South Asia\"], \n",
    "                      s=80,marker=\"s\",color=my_color[1], alpha=opacity, label=\"South Asia\")\n",
    "scatter2b=ax2.scatter(x2, flfp[\"East Asia and the Pacific\"], \n",
    "                      s=80,marker=\"^\",color=my_color[3], alpha=opacity, label=\"East Asia and the Pacific\")\n",
    "scatter2c=ax2.scatter(x2, flfp[\"Developed Regions\"], \n",
    "                      s=80,marker=\"p\",color=my_color[4], alpha=opacity, label=\"Developed Regions\")\n",
    "scatter2d=ax2.scatter(x2, flfp[\"World\"], \n",
    "                      s=100,marker=\"p\",color=my_color[5], alpha=opacity, label=\"World\")\n",
    "\n",
    "#### y axis max and min ####\n",
    "ax1.set_ylim(60,90)\n",
    "ax2.set_ylim(20,80)\n",
    "\n",
    "#### Lables and ticks ####\n",
    "ax1.set_ylabel(\"Labor Force Participaiton (Percent)\",fontsize=18,color=\"k\")\n",
    "ax1.set_xlabel(\"Male\",fontsize=20,color=\"k\")\n",
    "\n",
    "ax2.set_ylabel(\"Labor Force Participaiton (Percent)\",fontsize=18,color=\"k\")\n",
    "ax2.set_xlabel(\"Female\",fontsize=20,color=\"k\")\n",
    "\n",
    "ax.tick_params(axis='x', colors='k',labelsize=20)\n",
    "ax.tick_params(axis='y', colors='k',labelsize=20)\n",
    "\n",
    "#### Colorcode the tick tabs ####\n",
    "ax1.tick_params(axis='x', colors='k')\n",
    "ax1.tick_params(axis='y', colors='k')\n",
    "ax2.tick_params(axis='x', colors='k')\n",
    "ax2.tick_params(axis='y', colors='k')\n",
    "\n",
    "#### Legend ####\n",
    "leg1=ax1.legend((scatter1a,scatter1b,scatter1c,scatter1d),(label_region),loc='upper right',\n",
    "                fontsize=20,bbox_to_anchor=(1.15,2.1),ncol=2, borderaxespad=9,handletextpad=0)\n",
    "for text in leg1.get_texts():\n",
    "    plt.setp(text,color='black')\n",
    "\n",
    "#### Colorcode the spine of the graph ####\n",
    "ax1.spines['bottom'].set_color('k')\n",
    "ax1.spines['top'].set_color('k')\n",
    "ax1.spines['left'].set_color('k')\n",
    "ax1.spines['right'].set_color('k')\n",
    "\n",
    "ax2.spines['bottom'].set_color('k')\n",
    "ax2.spines['top'].set_color('k')\n",
    "ax2.spines['left'].set_color('k')\n",
    "ax2.spines['right'].set_color('k')\n",
    "\n",
    "#### Show the plot/image ####\n",
    "ax1.grid(alpha=0.8,linestyle='--')\n",
    "ax1.xaxis.grid(False)\n",
    "ax1.yaxis.grid(True)\n",
    "\n",
    "ax2.grid(alpha=0.8,linestyle='--')\n",
    "ax2.xaxis.grid(False)\n",
    "ax2.yaxis.grid(True)\n",
    "\n",
    "fig.tight_layout()\n",
    "plt.margins(0.02)\n",
    "plt.savefig(\"/Users/lili/Documents/Harvard/DB_MPAID/RA_Jeni/Python_training/graphs/figure_lf_a.jpg\",\n",
    "            bbox_inches='tight')\n",
    "plt.show();"
   ]
  },
  {
   "cell_type": "markdown",
   "metadata": {},
   "source": [
    "## - Markdown tutorials"
   ]
  },
  {
   "cell_type": "markdown",
   "metadata": {},
   "source": [
    "Example: \n",
    "* This _is_ important\n",
    "* This **is** important\n",
    "* This is <span style=\"color:red\">red</span>\n",
    "* This is **<span style=\"color:blue\">blue</span>**\n",
    "\n",
    "\n",
    "https://www.markdowntutorial.com/"
   ]
  }
 ],
 "metadata": {
  "kernelspec": {
   "display_name": "Python 3",
   "language": "python",
   "name": "python3"
  },
  "language_info": {
   "codemirror_mode": {
    "name": "ipython",
    "version": 3
   },
   "file_extension": ".py",
   "mimetype": "text/x-python",
   "name": "python",
   "nbconvert_exporter": "python",
   "pygments_lexer": "ipython3",
   "version": "3.6.1"
  }
 },
 "nbformat": 4,
 "nbformat_minor": 2
}
